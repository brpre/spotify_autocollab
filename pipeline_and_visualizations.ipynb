{
 "cells": [
  {
   "cell_type": "markdown",
   "metadata": {},
   "source": [
    "# Pipeline\n",
    "\n",
    "### Overview \n",
    "Given a Spotify username, we will request a user's public playlists from the Spotify API and aggregate them into a dataframe of [audio features](https://developer.spotify.com/documentation/web-api/reference/#endpoint-get-audio-features) which represent certain attributes of each track. We will then collect data of the same form for each of this user's Spotify friends (users that this user is \"following\"), and aggregate the friend data into a weighted source for recommendations.\n",
    "\n",
    "After authenticating with the API, we can see a lot of public data on each user. We can get all of their public playlists, retrieve the tracks from each playlist, and get audio features for the tracks (this last step is done in batches of 50 tracks at a time). \n",
    "\n",
    "For each track, we can obtain:\n",
    "- 'acousticness'\n",
    "- 'danceability'\n",
    "- 'energy'\n",
    "- 'instrumentalness'\n",
    "- 'liveness'\n",
    "- 'loudness'\n",
    "- 'speechiness'\n",
    "- 'tempo'\n",
    "- 'valence'\n",
    "\n",
    "We also have attributes like the track's title, artist, and unique Spotify URI, but the audio features are the attributes that will be useful for training a model.\n",
    "\n",
    "Our expectation is that songs with similar audio features are similar enough for a user who likes one to enjoy the other(s). This is why we intend to use k-nearest neighbors, but more on that later. This audio feature data is essential to make song recommendations becuase it is the only set of numerical features that we have from the Spotify API, so it's the only way to meaningfully conceptualize distance between songs in space. Spotify has its own endpoint for recommendations that takes min, max, and target audio features as attributes, so we're hoping that means we're headed in the right direction when implementing our own audio-feature-based recommender.\n",
    "\n",
    "To simplify analysis, each audio feature will have its own column in our output DataFrame.  For example:\n",
    "\n",
    "<img src=\"completed dataframe screenshot upload filepath\">\n",
    "\n",
    "\n",
    "### Pipeline Overview\n",
    "\n",
    "We will accomplish this task with four functions:\n",
    "\n",
    "- `get_user_playlist_data(username)`\n",
    "    - returns json list of simplified playlist objects from Spotify API\n",
    "- `get_track_ids(req_data_json)`\n",
    "    - gets a list of track IDs from the given list of playlist objects, track IDs will be used to request audio feature data\n",
    "- `get_audio_features(user_tracks)`\n",
    "    - given a list of track IDs, requests audio features for tracks in batches of 50 and adds track features as entries to dataframe\n",
    "- `clean_user_af_df(audio_features_df)`\n",
    "    - cleans given dataframe by removing redundant columns and those that are not useful for our model, retaining track ID and audio features\n",
    "\n",
    "All four functions are wrapped into one convenience function for ease of calling:\n",
    "\n",
    "- `get_user_audio_features(username)`\n",
    "    - wraps the ETL process in one conveninence function, the result of which is a clean dataframe of audio features for tracks found in this user's public playlists\n",
    "    \n",
    "As well as one web scraping script:\n",
    "\n",
    "\n",
    "- **Scrape list of games:** use `get_url()` and `clean_top_games()` in a loop to collect n pages of top games (100 * n games), populating a DataFrame `df_game`\n",
    "- **Get meta data per game:** loop through each row of `df_game`, query and process the individual game's webpage via `get_url()` and `clean_game_meta()` using the previously collected url and append the remaining features to `df_game`"
   ]
  },
  {
   "cell_type": "markdown",
   "metadata": {},
   "source": [
    "### A few convenience functions for endpoint generation"
   ]
  },
  {
   "cell_type": "code",
   "execution_count": 13,
   "metadata": {},
   "outputs": [],
   "source": [
    "import requests\n",
    "import json\n",
    "import collections\n",
    "import pandas as pd\n",
    "import numpy as np\n",
    "import plotly.express as px\n",
    "import plotly.graph_objects as go\n",
    "from bs4 import BeautifulSoup\n",
    "\n",
    "# NOTE: tokens only last 1 hour. we need a new access token every time we want to run this\n",
    "access_token = 'BQDr3lKWYeo96zuHHR6ZLE-hyQex0IzgJCmhavuyi81CZtTD_aj_PgfR8cuBsHLj920D84DVxnbZsa7vFORHoKkirqKUYpsbpRSOlLAb-lZUNmnH8G7zZgRyuwrHykHeVr2T94jDj111GCj_sjdq3npu'\n",
    "\n",
    "headers = {\n",
    "    'Authorization': f'Bearer {access_token}',\n",
    "    'Content-Type': 'application/json',\n",
    "    'Accept': 'application/json'\n",
    "}"
   ]
  },
  {
   "cell_type": "code",
   "execution_count": 10,
   "metadata": {},
   "outputs": [],
   "source": [
    "def get_user_playlists_endpoint(user_id):\n",
    "    \"\"\" endpoint generator used to get list of playlist objects for given user. This function gets the URL,\n",
    "        simplification to playlist_id's happens elsewhere\n",
    "\n",
    "        Args:\n",
    "            user_id (str): base 62 identifier found at end of spotify URI, unique to each user\n",
    "    \n",
    "        Return:\n",
    "            fstring (str): url used to get user's playlists\n",
    "    \"\"\"\n",
    "    # suffix of URL: gets items list from paging obj, gets playlist_id's from each item\n",
    "    # note: wrapped in a paging object i think\n",
    "    return f\"https://api.spotify.com/v1/users/{user_id}/playlists?limit=50&fields=items(id)\"\n",
    "  \n",
    "\n",
    "def get_playlist_tracks_endpoint(playlist_id):\n",
    "    \"\"\" endpoint generator used to get list of track objects for given playlist\n",
    "\n",
    "        Args:\n",
    "            playlist_id (str): base 62 identifier found at end of spotify URI, unique to each playlist\n",
    "    \n",
    "        Return:\n",
    "            fstring (str): url used to get a list of track objects for given playlist\n",
    "    \"\"\"\n",
    "    \n",
    "    # gets items list from paging obj\n",
    "    return f\"https://api.spotify.com/v1/playlists/{playlist_id}/tracks?fields=items\"\n",
    "\n",
    "\n",
    "def get_tracks_audio_features_endpoint(tracks_str):\n",
    "    \"\"\"\n",
    "    produces a url endpoint to retrieve audio features for a list of tracks,\n",
    "    supplied as a comma separated list of Spotify IDs\n",
    "\n",
    "    :param tracks_str: a comma separated list of Spotify IDs that point to tracks\n",
    "    :return: fstring url used to get list of track objects\n",
    "    \"\"\"\n",
    "    return f\"https://api.spotify.com/v1/audio-features?ids={tracks_str}\""
   ]
  },
  {
   "cell_type": "markdown",
   "metadata": {},
   "source": [
    "### Get user's playlists, get tracks from the playlists, get audio features for the tracks\n",
    "#### Get user's playlists"
   ]
  },
  {
   "cell_type": "code",
   "execution_count": 9,
   "metadata": {},
   "outputs": [],
   "source": [
    "def get_user_playlist_data(username):\n",
    "    \"\"\"\n",
    "    Given a username, pulls all public playlist data for that user\n",
    "    Args:\n",
    "        username (str): Spotify username for the user for which we want recommendations\n",
    "    Returns:\n",
    "        req_data_json (json list): json equivalent of request data from user playlists endpoint\n",
    "    \"\"\"\n",
    "    # print string to show that it's working\n",
    "    print(f'Collecting audio features for {username}:')\n",
    "\n",
    "    # TODO catch exception if bad username\n",
    "    # gets an endpoint for playlist objects corresponding to this user's playlists\n",
    "    user_playlists_endpoint = get_user_playlists_endpoint(username)\n",
    "    \n",
    "    # gets json list of playlist objects (this user's playlists) from Spotify API\n",
    "    user_request_data = requests.get(user_playlists_endpoint, headers=headers)\n",
    "    \n",
    "    # convert given json array of dicts wrapped in a paging object to json\n",
    "    req_data_json = user_request_data.json() \n",
    "    \n",
    "    return req_data_json"
   ]
  },
  {
   "cell_type": "markdown",
   "metadata": {},
   "source": [
    "#### get tracks from the playlists"
   ]
  },
  {
   "cell_type": "code",
   "execution_count": 8,
   "metadata": {},
   "outputs": [],
   "source": [
    "def get_track_ids(req_data_json):\n",
    "    \"\"\"\n",
    "    Given user playlists request data, compiles a list of track IDs, pulling up to\n",
    "    100 tracks from each of the given public playlists. A list allows for duplicates,\n",
    "    could use a set if we want to exclude duplicates in a later version.\n",
    "    Args:\n",
    "        req_data_json (json list): json list of playlist objects (representing this user's public playlists)\n",
    "    Returns:\n",
    "        track_list (array): a list of track IDs representing a user's entire public library\n",
    "    \"\"\"\n",
    "    \n",
    "    # get items field from json, array of dicts\n",
    "    playlist_dict = req_data_json.get('items') \n",
    "\n",
    "    # NOTE: if this is slow, use some numpy thing instead\n",
    "    track_list = []\n",
    "    if playlist_dict == None:\n",
    "        print(\"there's nothing in the playlist dict. you probably need a new access token, they expire quickly\")\n",
    "    \n",
    "    else:\n",
    "        for playlist_id_dict in playlist_dict:\n",
    "            \n",
    "            # get playlist Spotify ID string\n",
    "            playlist_id = playlist_id_dict.get('id') \n",
    "            \n",
    "            # pass playlist_id to endpoint generator, get all songs in playlist\n",
    "            # TODO catch exception if bad playlist id\n",
    "            playlist_tracks_endpoint = get_playlist_tracks_endpoint(playlist_id)\n",
    "            \n",
    "            # request a playlist object, metadata and json list of track_id's\n",
    "            playlist_req_data = requests.get(playlist_tracks_endpoint, headers=headers)\n",
    "            playlist_paging_obj_dict = playlist_req_data.json()\n",
    "            track_dict = playlist_paging_obj_dict.get('items')\n",
    "\n",
    "            # get all tracks from this playlist\n",
    "            for track in track_dict:\n",
    "                track_id = track.get('track').get('id')\n",
    "                track_list.append(track_id)\n",
    "\n",
    "    # print(\"Num tracks for user: \" + str(len(track_set)))\n",
    "    return track_list"
   ]
  },
  {
   "cell_type": "markdown",
   "metadata": {},
   "source": [
    "#### get audio features for the tracks"
   ]
  },
  {
   "cell_type": "code",
   "execution_count": 7,
   "metadata": {},
   "outputs": [],
   "source": [
    "def get_audio_features(user_tracks):\n",
    "    \"\"\"Given a list of track IDs, generates a dataframe with audio feature data \n",
    "        for each track. Note that we get track audio features in batches. Adds\n",
    "        the results to a dataframe.\n",
    "    Args:\n",
    "        user_tracks (array): a list of track IDs representing a user's entire public library        \n",
    "    Returns:\n",
    "        audio_features_df (pd.DataFrame): each row is a track, columns are audio features\n",
    "    \"\"\"\n",
    "    \n",
    "    # spotify api is quirky and can only handle batches of requests. \n",
    "    # split user_tracks list into chunks small enough for spotify api to accept\n",
    "    split_user_tracks = [user_tracks[i:i + 50] for i in range(0, len(user_tracks), 50)]  \n",
    "    \n",
    "    # init dataframe, rows are tracks, columns are audio features\n",
    "    audio_features_df = pd.DataFrame()\n",
    "    \n",
    "    # for each sublist of all the tracks collected from the user\n",
    "    for track_sublist in split_user_tracks:\n",
    "        \n",
    "        # make list of spotify URIs separated by commas because that's what spotify wants for the endpoint\n",
    "        sublist_str = ','.join(track_sublist)\n",
    "        \n",
    "        # get endpoint to retrieve audio features for our batch of 50 tracks\n",
    "        tracks_endpoint = get_tracks_audio_features_endpoint(sublist_str)\n",
    "        \n",
    "        # execute the get request\n",
    "        sublist_req = requests.get(tracks_endpoint, headers=headers)\n",
    "        print(f'sublist_req: {sublist_req}')\n",
    "        \n",
    "        # for each track in the sublist response data\n",
    "        for track_req in sublist_req.json()['audio_features']:\n",
    "            \n",
    "            # convert track_req into a pandas series\n",
    "            row_series = pd.Series(track_req)\n",
    "            # print(json.dumps(track_req, indent=2))\n",
    "            \n",
    "            \"\"\"\n",
    "            HEY this is a bad idea. make a list, add dicts to a list, convert\n",
    "            to a dataframe at the end. should do it this way instead:\n",
    "            https://stackoverflow.com/questions/13784192/creating-an-empty-pandas-dataframe-then-filling-it/56746204#56746204\n",
    "            \"\"\"\n",
    "            # append row_series to our accumulator audio_features_df\n",
    "            audio_features_df = audio_features_df.append(row_series, ignore_index=True)\n",
    "\n",
    "    return audio_features_df"
   ]
  },
  {
   "cell_type": "markdown",
   "metadata": {},
   "source": [
    "### clean the user's dataframe"
   ]
  },
  {
   "cell_type": "code",
   "execution_count": 6,
   "metadata": {},
   "outputs": [],
   "source": [
    "def clean_user_af_df(audio_features_df):\n",
    "    \"\"\"Creates and returns a new dataframe that retains only the track ID and the useful audio features \n",
    "        from the given df.\n",
    "    Args:\n",
    "        audio_features_df (pd.DataFrame): each row is a track, columns are attributes including audio features\n",
    "    Returns:\n",
    "        cleaned_af_df (pd.DataFrame): each row is a track, columns are audio features\n",
    "    \"\"\"\n",
    "    # a list of the features we want to retain. Track ID and audio features\n",
    "    features_list = ['id', 'acousticness', 'danceability', 'energy', \n",
    "                 'instrumentalness', 'liveness', 'loudness', \n",
    "                 'speechiness', 'tempo', 'valence']\n",
    "    \n",
    "    # take a subset of the original dataframe columns, only columns in features_list\n",
    "    cleaned_af_df = audio_features_df[features_list]\n",
    "    \n",
    "    return cleaned_af_df"
   ]
  },
  {
   "cell_type": "markdown",
   "metadata": {},
   "source": [
    "### all ETL functions wrapped in one convenient function"
   ]
  },
  {
   "cell_type": "code",
   "execution_count": 5,
   "metadata": {},
   "outputs": [],
   "source": [
    "def get_user_audio_features(username):\n",
    "    \"\"\"A convenience function that wraps our pipeline for each user. \n",
    "    Given a username, pulls all public playlist data for that user. Then, \n",
    "    compiles a list of track IDs from all the user's public playlists. Then,\n",
    "    gets track audio features and adds the results to a dataframe. Last,\n",
    "    clean the dataframe to only retain the id and audio feature columns.\n",
    "    Args:\n",
    "        username (str): Spotify username for the user for which we want recommendations\n",
    "    Returns:\n",
    "        clean_af_df (pd.DataFrame): each row is a track, columns are attributes including audio features\n",
    " \"\"\"\n",
    "    # Pulls all public playlist data for user\n",
    "    user_req_data = get_user_playlist_data(username)\n",
    "    \n",
    "    # gets track IDs for all tracks in user's public playlists, as a list\n",
    "    user_tracks = get_track_ids(user_req_data)\n",
    "    \n",
    "    # gets dataframe of audio features for each track\n",
    "    audio_features_df = get_audio_features(user_tracks)\n",
    "    \n",
    "    # cleans dataframe of audio features, eliminates redundant columns and useless attributes.\n",
    "    clean_af_df = clean_user_af_df(audio_features_df)\n",
    "    \n",
    "    return clean_af_df"
   ]
  },
  {
   "cell_type": "markdown",
   "metadata": {},
   "source": [
    "#### The cell below is our attempt at web scraping the user's following list so that we can build a dataframe based on their tracks.\n",
    "\n",
    "#### We were unsuccessful at this because Spotify blocks webscrapers, but for now this is not a problem because we can pass the usernames of the friends we want to base the recommendations on direclty"
   ]
  },
  {
   "cell_type": "code",
   "execution_count": 15,
   "metadata": {},
   "outputs": [],
   "source": [
    "def get_user_friends(username):\n",
    "    \"\"\"The Spotify API doesn't let us get a list of a user's friends. So what do we do?\n",
    "        We webscrape it.\n",
    "    Args:\n",
    "        username (str): Spotify username whose friends we will get\n",
    "    Returns:\n",
    "        friends_list (list): list of the usernames of this Spotify user's friends\n",
    "    \"\"\"\n",
    "    \n",
    "    # get the html for the webpage containing who this user follows\n",
    "    following_response = requests.get(f'https://open.spotify.com/user/{username}/following')\n",
    "    \n",
    "    # get the text from the html str for the webpage\n",
    "    following_soup = BeautifulSoup(following_response.text)\n",
    "    print(following_soup)\n",
    "    \n",
    "    # accumulate users following in list\n",
    "    following_list = []\n",
    "    \n",
    "    \n",
    "    # drill down to the container that has the following users in it. \n",
    "    following_class_name = '_5aac821edb25f0e281f50522021abbe4-scss _6424f268be3505ebab663700d60ebaa6-scss _7321ea8cd8e8baded34054347ab0be48-scss'\n",
    "    following_container = following_soup.find('div', class_=following_class_name)\n",
    "    \n",
    "    # extract each user from the container of users\n",
    "    following_class_name = '_3802c04052af0bb5d03956299250789e-scss'\n",
    "    following_html_list = following_container.find_all('div', class_=following_class_name)\n",
    "    \n",
    "    # for each of the users/artists in the list\n",
    "    for user_html in following_html_list:\n",
    "        name_and_username_tag = user_html.find('a', class_='f7ebc3d96230ee12a84a9b0b4b81bb8f-scss')\n",
    "        \n",
    "        # TODO we need to get the href field of this tag which will be of the form /user/{username}\n",
    "        \n",
    "        # filter out artists that this user is following, get only the users, not the /artists/\n",
    "        if href_str[:6] == '/user/':\n",
    "            following_list.append(href_str[6:])\n",
    "        \n",
    "    return following_list\n",
    "    \n",
    "    \n",
    "# get_user_friends('brenderman3')"
   ]
  },
  {
   "cell_type": "markdown",
   "metadata": {},
   "source": [
    "### testing get_audio_features() function for a few users, and loading the dataframes that we got to CSVs."
   ]
  },
  {
   "cell_type": "code",
   "execution_count": null,
   "metadata": {},
   "outputs": [],
   "source": [
    "# Pulls all public playlist data for user 'dudu.massud' (eddie)\n",
    "eddie_df = get_user_audio_features('dudu.massud')\n",
    "eddie_df.to_csv('eddie_song_data.csv')\n",
    "\n",
    "# Pulls all public playlist data for user 'briannannaj' (bri)\n",
    "bri_df = get_user_audio_features('briannannaj')\n",
    "bri_df.to_csv('bri_song_data.csv')\n",
    "\n",
    "# Pulls all public playlist data for user 'rafalapetina' (rafa)\n",
    "rafa_df = get_user_audio_features('rafalapetina')\n",
    "rafa_df.to_csv('rafa_song_data.csv')\n",
    "\n",
    "# Pulls all public playlist data for user 'brenderman3' (brendan)\n",
    "brendan_df = get_user_audio_features('brenderman3')\n",
    "brendan_df.to_csv('brendan_song_data.csv')\n",
    "\n",
    "# Pulls all public playlist data for user 'dvhgzdwi45q7g1bn7znolytqu' (aditya)\n",
    "aditya_df = get_user_audio_features('dvhgzdwi45q7g1bn7znolytqu')\n",
    "aditya_df.to_csv('aditya_song_data.csv')\n",
    "\n",
    "# for an unknown reason, the code breaks when we run it for my friend matt.\n",
    "# get_user_audio_features('mattp0irier')"
   ]
  },
  {
   "cell_type": "code",
   "execution_count": 16,
   "metadata": {},
   "outputs": [
    {
     "data": {
      "text/html": [
       "<div>\n",
       "<style scoped>\n",
       "    .dataframe tbody tr th:only-of-type {\n",
       "        vertical-align: middle;\n",
       "    }\n",
       "\n",
       "    .dataframe tbody tr th {\n",
       "        vertical-align: top;\n",
       "    }\n",
       "\n",
       "    .dataframe thead th {\n",
       "        text-align: right;\n",
       "    }\n",
       "</style>\n",
       "<table border=\"1\" class=\"dataframe\">\n",
       "  <thead>\n",
       "    <tr style=\"text-align: right;\">\n",
       "      <th></th>\n",
       "      <th>Unnamed: 0</th>\n",
       "      <th>acousticness</th>\n",
       "      <th>analysis_url</th>\n",
       "      <th>danceability</th>\n",
       "      <th>duration_ms</th>\n",
       "      <th>energy</th>\n",
       "      <th>id</th>\n",
       "      <th>instrumentalness</th>\n",
       "      <th>key</th>\n",
       "      <th>liveness</th>\n",
       "      <th>loudness</th>\n",
       "      <th>mode</th>\n",
       "      <th>speechiness</th>\n",
       "      <th>tempo</th>\n",
       "      <th>time_signature</th>\n",
       "      <th>track_href</th>\n",
       "      <th>type</th>\n",
       "      <th>uri</th>\n",
       "      <th>valence</th>\n",
       "    </tr>\n",
       "  </thead>\n",
       "  <tbody>\n",
       "    <tr>\n",
       "      <th>0</th>\n",
       "      <td>0</td>\n",
       "      <td>0.192</td>\n",
       "      <td>https://api.spotify.com/v1/audio-analysis/20Mu...</td>\n",
       "      <td>0.741</td>\n",
       "      <td>231964.0</td>\n",
       "      <td>0.645</td>\n",
       "      <td>20MuVazoNMv6xjKPnRFOxG</td>\n",
       "      <td>0.000000</td>\n",
       "      <td>11.0</td>\n",
       "      <td>0.1630</td>\n",
       "      <td>-5.116</td>\n",
       "      <td>0.0</td>\n",
       "      <td>0.0963</td>\n",
       "      <td>149.070</td>\n",
       "      <td>4.0</td>\n",
       "      <td>https://api.spotify.com/v1/tracks/20MuVazoNMv6...</td>\n",
       "      <td>audio_features</td>\n",
       "      <td>spotify:track:20MuVazoNMv6xjKPnRFOxG</td>\n",
       "      <td>0.4880</td>\n",
       "    </tr>\n",
       "    <tr>\n",
       "      <th>1</th>\n",
       "      <td>1</td>\n",
       "      <td>0.194</td>\n",
       "      <td>https://api.spotify.com/v1/audio-analysis/4S7Y...</td>\n",
       "      <td>0.598</td>\n",
       "      <td>238307.0</td>\n",
       "      <td>0.252</td>\n",
       "      <td>4S7YHmlWwfwArgd8LfSPud</td>\n",
       "      <td>0.133000</td>\n",
       "      <td>2.0</td>\n",
       "      <td>0.0992</td>\n",
       "      <td>-15.086</td>\n",
       "      <td>1.0</td>\n",
       "      <td>0.0644</td>\n",
       "      <td>120.064</td>\n",
       "      <td>4.0</td>\n",
       "      <td>https://api.spotify.com/v1/tracks/4S7YHmlWwfwA...</td>\n",
       "      <td>audio_features</td>\n",
       "      <td>spotify:track:4S7YHmlWwfwArgd8LfSPud</td>\n",
       "      <td>0.0352</td>\n",
       "    </tr>\n",
       "    <tr>\n",
       "      <th>2</th>\n",
       "      <td>2</td>\n",
       "      <td>0.339</td>\n",
       "      <td>https://api.spotify.com/v1/audio-analysis/3F1g...</td>\n",
       "      <td>0.422</td>\n",
       "      <td>225780.0</td>\n",
       "      <td>0.349</td>\n",
       "      <td>3F1gjSkTX9kvxOo6BnlRNd</td>\n",
       "      <td>0.000240</td>\n",
       "      <td>4.0</td>\n",
       "      <td>0.1080</td>\n",
       "      <td>-12.424</td>\n",
       "      <td>0.0</td>\n",
       "      <td>0.3150</td>\n",
       "      <td>57.000</td>\n",
       "      <td>4.0</td>\n",
       "      <td>https://api.spotify.com/v1/tracks/3F1gjSkTX9kv...</td>\n",
       "      <td>audio_features</td>\n",
       "      <td>spotify:track:3F1gjSkTX9kvxOo6BnlRNd</td>\n",
       "      <td>0.1340</td>\n",
       "    </tr>\n",
       "    <tr>\n",
       "      <th>3</th>\n",
       "      <td>3</td>\n",
       "      <td>0.634</td>\n",
       "      <td>https://api.spotify.com/v1/audio-analysis/71Aa...</td>\n",
       "      <td>0.450</td>\n",
       "      <td>160160.0</td>\n",
       "      <td>0.300</td>\n",
       "      <td>71AaGUlQ7I5dRgDEQpdnI4</td>\n",
       "      <td>0.000003</td>\n",
       "      <td>7.0</td>\n",
       "      <td>0.1420</td>\n",
       "      <td>-9.530</td>\n",
       "      <td>1.0</td>\n",
       "      <td>0.0477</td>\n",
       "      <td>96.394</td>\n",
       "      <td>4.0</td>\n",
       "      <td>https://api.spotify.com/v1/tracks/71AaGUlQ7I5d...</td>\n",
       "      <td>audio_features</td>\n",
       "      <td>spotify:track:71AaGUlQ7I5dRgDEQpdnI4</td>\n",
       "      <td>0.2070</td>\n",
       "    </tr>\n",
       "    <tr>\n",
       "      <th>4</th>\n",
       "      <td>4</td>\n",
       "      <td>0.231</td>\n",
       "      <td>https://api.spotify.com/v1/audio-analysis/4Q34...</td>\n",
       "      <td>0.647</td>\n",
       "      <td>193839.0</td>\n",
       "      <td>0.667</td>\n",
       "      <td>4Q34FP1AT7GEl9oLgNtiWj</td>\n",
       "      <td>0.000000</td>\n",
       "      <td>5.0</td>\n",
       "      <td>0.1330</td>\n",
       "      <td>-5.563</td>\n",
       "      <td>1.0</td>\n",
       "      <td>0.3040</td>\n",
       "      <td>172.080</td>\n",
       "      <td>4.0</td>\n",
       "      <td>https://api.spotify.com/v1/tracks/4Q34FP1AT7GE...</td>\n",
       "      <td>audio_features</td>\n",
       "      <td>spotify:track:4Q34FP1AT7GEl9oLgNtiWj</td>\n",
       "      <td>0.7040</td>\n",
       "    </tr>\n",
       "    <tr>\n",
       "      <th>...</th>\n",
       "      <td>...</td>\n",
       "      <td>...</td>\n",
       "      <td>...</td>\n",
       "      <td>...</td>\n",
       "      <td>...</td>\n",
       "      <td>...</td>\n",
       "      <td>...</td>\n",
       "      <td>...</td>\n",
       "      <td>...</td>\n",
       "      <td>...</td>\n",
       "      <td>...</td>\n",
       "      <td>...</td>\n",
       "      <td>...</td>\n",
       "      <td>...</td>\n",
       "      <td>...</td>\n",
       "      <td>...</td>\n",
       "      <td>...</td>\n",
       "      <td>...</td>\n",
       "      <td>...</td>\n",
       "    </tr>\n",
       "    <tr>\n",
       "      <th>279</th>\n",
       "      <td>279</td>\n",
       "      <td>0.488</td>\n",
       "      <td>https://api.spotify.com/v1/audio-analysis/1kNV...</td>\n",
       "      <td>0.675</td>\n",
       "      <td>217846.0</td>\n",
       "      <td>0.493</td>\n",
       "      <td>1kNVJQEkobOlyfbctPZ4fs</td>\n",
       "      <td>0.000000</td>\n",
       "      <td>1.0</td>\n",
       "      <td>0.0730</td>\n",
       "      <td>-5.197</td>\n",
       "      <td>0.0</td>\n",
       "      <td>0.0792</td>\n",
       "      <td>129.979</td>\n",
       "      <td>4.0</td>\n",
       "      <td>https://api.spotify.com/v1/tracks/1kNVJQEkobOl...</td>\n",
       "      <td>audio_features</td>\n",
       "      <td>spotify:track:1kNVJQEkobOlyfbctPZ4fs</td>\n",
       "      <td>0.8170</td>\n",
       "    </tr>\n",
       "    <tr>\n",
       "      <th>280</th>\n",
       "      <td>280</td>\n",
       "      <td>0.539</td>\n",
       "      <td>https://api.spotify.com/v1/audio-analysis/26Wp...</td>\n",
       "      <td>0.621</td>\n",
       "      <td>166400.0</td>\n",
       "      <td>0.700</td>\n",
       "      <td>26WpOBpHiIMoBuMEIwtOCH</td>\n",
       "      <td>0.000000</td>\n",
       "      <td>8.0</td>\n",
       "      <td>0.1520</td>\n",
       "      <td>-5.502</td>\n",
       "      <td>1.0</td>\n",
       "      <td>0.2470</td>\n",
       "      <td>149.902</td>\n",
       "      <td>4.0</td>\n",
       "      <td>https://api.spotify.com/v1/tracks/26WpOBpHiIMo...</td>\n",
       "      <td>audio_features</td>\n",
       "      <td>spotify:track:26WpOBpHiIMoBuMEIwtOCH</td>\n",
       "      <td>0.7040</td>\n",
       "    </tr>\n",
       "    <tr>\n",
       "      <th>281</th>\n",
       "      <td>281</td>\n",
       "      <td>0.485</td>\n",
       "      <td>https://api.spotify.com/v1/audio-analysis/6Pa6...</td>\n",
       "      <td>0.671</td>\n",
       "      <td>271440.0</td>\n",
       "      <td>0.443</td>\n",
       "      <td>6Pa6VpdGS8OfiVOEnNAHHw</td>\n",
       "      <td>0.000283</td>\n",
       "      <td>9.0</td>\n",
       "      <td>0.1120</td>\n",
       "      <td>-12.776</td>\n",
       "      <td>1.0</td>\n",
       "      <td>0.0389</td>\n",
       "      <td>79.275</td>\n",
       "      <td>4.0</td>\n",
       "      <td>https://api.spotify.com/v1/tracks/6Pa6VpdGS8Of...</td>\n",
       "      <td>audio_features</td>\n",
       "      <td>spotify:track:6Pa6VpdGS8OfiVOEnNAHHw</td>\n",
       "      <td>0.5890</td>\n",
       "    </tr>\n",
       "    <tr>\n",
       "      <th>282</th>\n",
       "      <td>282</td>\n",
       "      <td>0.945</td>\n",
       "      <td>https://api.spotify.com/v1/audio-analysis/2x8T...</td>\n",
       "      <td>0.632</td>\n",
       "      <td>204931.0</td>\n",
       "      <td>0.398</td>\n",
       "      <td>2x8TNY9KwNvD19gVGs4WOP</td>\n",
       "      <td>0.000000</td>\n",
       "      <td>6.0</td>\n",
       "      <td>0.2280</td>\n",
       "      <td>-6.615</td>\n",
       "      <td>1.0</td>\n",
       "      <td>0.3730</td>\n",
       "      <td>90.695</td>\n",
       "      <td>4.0</td>\n",
       "      <td>https://api.spotify.com/v1/tracks/2x8TNY9KwNvD...</td>\n",
       "      <td>audio_features</td>\n",
       "      <td>spotify:track:2x8TNY9KwNvD19gVGs4WOP</td>\n",
       "      <td>0.6330</td>\n",
       "    </tr>\n",
       "    <tr>\n",
       "      <th>283</th>\n",
       "      <td>283</td>\n",
       "      <td>0.109</td>\n",
       "      <td>https://api.spotify.com/v1/audio-analysis/6m2L...</td>\n",
       "      <td>0.774</td>\n",
       "      <td>161593.0</td>\n",
       "      <td>0.611</td>\n",
       "      <td>6m2LNopVJKsvBB9l7Z1rwn</td>\n",
       "      <td>0.000000</td>\n",
       "      <td>6.0</td>\n",
       "      <td>0.0805</td>\n",
       "      <td>-2.883</td>\n",
       "      <td>1.0</td>\n",
       "      <td>0.1340</td>\n",
       "      <td>89.995</td>\n",
       "      <td>4.0</td>\n",
       "      <td>https://api.spotify.com/v1/tracks/6m2LNopVJKsv...</td>\n",
       "      <td>audio_features</td>\n",
       "      <td>spotify:track:6m2LNopVJKsvBB9l7Z1rwn</td>\n",
       "      <td>0.3880</td>\n",
       "    </tr>\n",
       "  </tbody>\n",
       "</table>\n",
       "<p>284 rows × 19 columns</p>\n",
       "</div>"
      ],
      "text/plain": [
       "     Unnamed: 0  acousticness  \\\n",
       "0             0         0.192   \n",
       "1             1         0.194   \n",
       "2             2         0.339   \n",
       "3             3         0.634   \n",
       "4             4         0.231   \n",
       "..          ...           ...   \n",
       "279         279         0.488   \n",
       "280         280         0.539   \n",
       "281         281         0.485   \n",
       "282         282         0.945   \n",
       "283         283         0.109   \n",
       "\n",
       "                                          analysis_url  danceability  \\\n",
       "0    https://api.spotify.com/v1/audio-analysis/20Mu...         0.741   \n",
       "1    https://api.spotify.com/v1/audio-analysis/4S7Y...         0.598   \n",
       "2    https://api.spotify.com/v1/audio-analysis/3F1g...         0.422   \n",
       "3    https://api.spotify.com/v1/audio-analysis/71Aa...         0.450   \n",
       "4    https://api.spotify.com/v1/audio-analysis/4Q34...         0.647   \n",
       "..                                                 ...           ...   \n",
       "279  https://api.spotify.com/v1/audio-analysis/1kNV...         0.675   \n",
       "280  https://api.spotify.com/v1/audio-analysis/26Wp...         0.621   \n",
       "281  https://api.spotify.com/v1/audio-analysis/6Pa6...         0.671   \n",
       "282  https://api.spotify.com/v1/audio-analysis/2x8T...         0.632   \n",
       "283  https://api.spotify.com/v1/audio-analysis/6m2L...         0.774   \n",
       "\n",
       "     duration_ms  energy                      id  instrumentalness   key  \\\n",
       "0       231964.0   0.645  20MuVazoNMv6xjKPnRFOxG          0.000000  11.0   \n",
       "1       238307.0   0.252  4S7YHmlWwfwArgd8LfSPud          0.133000   2.0   \n",
       "2       225780.0   0.349  3F1gjSkTX9kvxOo6BnlRNd          0.000240   4.0   \n",
       "3       160160.0   0.300  71AaGUlQ7I5dRgDEQpdnI4          0.000003   7.0   \n",
       "4       193839.0   0.667  4Q34FP1AT7GEl9oLgNtiWj          0.000000   5.0   \n",
       "..           ...     ...                     ...               ...   ...   \n",
       "279     217846.0   0.493  1kNVJQEkobOlyfbctPZ4fs          0.000000   1.0   \n",
       "280     166400.0   0.700  26WpOBpHiIMoBuMEIwtOCH          0.000000   8.0   \n",
       "281     271440.0   0.443  6Pa6VpdGS8OfiVOEnNAHHw          0.000283   9.0   \n",
       "282     204931.0   0.398  2x8TNY9KwNvD19gVGs4WOP          0.000000   6.0   \n",
       "283     161593.0   0.611  6m2LNopVJKsvBB9l7Z1rwn          0.000000   6.0   \n",
       "\n",
       "     liveness  loudness  mode  speechiness    tempo  time_signature  \\\n",
       "0      0.1630    -5.116   0.0       0.0963  149.070             4.0   \n",
       "1      0.0992   -15.086   1.0       0.0644  120.064             4.0   \n",
       "2      0.1080   -12.424   0.0       0.3150   57.000             4.0   \n",
       "3      0.1420    -9.530   1.0       0.0477   96.394             4.0   \n",
       "4      0.1330    -5.563   1.0       0.3040  172.080             4.0   \n",
       "..        ...       ...   ...          ...      ...             ...   \n",
       "279    0.0730    -5.197   0.0       0.0792  129.979             4.0   \n",
       "280    0.1520    -5.502   1.0       0.2470  149.902             4.0   \n",
       "281    0.1120   -12.776   1.0       0.0389   79.275             4.0   \n",
       "282    0.2280    -6.615   1.0       0.3730   90.695             4.0   \n",
       "283    0.0805    -2.883   1.0       0.1340   89.995             4.0   \n",
       "\n",
       "                                            track_href            type  \\\n",
       "0    https://api.spotify.com/v1/tracks/20MuVazoNMv6...  audio_features   \n",
       "1    https://api.spotify.com/v1/tracks/4S7YHmlWwfwA...  audio_features   \n",
       "2    https://api.spotify.com/v1/tracks/3F1gjSkTX9kv...  audio_features   \n",
       "3    https://api.spotify.com/v1/tracks/71AaGUlQ7I5d...  audio_features   \n",
       "4    https://api.spotify.com/v1/tracks/4Q34FP1AT7GE...  audio_features   \n",
       "..                                                 ...             ...   \n",
       "279  https://api.spotify.com/v1/tracks/1kNVJQEkobOl...  audio_features   \n",
       "280  https://api.spotify.com/v1/tracks/26WpOBpHiIMo...  audio_features   \n",
       "281  https://api.spotify.com/v1/tracks/6Pa6VpdGS8Of...  audio_features   \n",
       "282  https://api.spotify.com/v1/tracks/2x8TNY9KwNvD...  audio_features   \n",
       "283  https://api.spotify.com/v1/tracks/6m2LNopVJKsv...  audio_features   \n",
       "\n",
       "                                      uri  valence  \n",
       "0    spotify:track:20MuVazoNMv6xjKPnRFOxG   0.4880  \n",
       "1    spotify:track:4S7YHmlWwfwArgd8LfSPud   0.0352  \n",
       "2    spotify:track:3F1gjSkTX9kvxOo6BnlRNd   0.1340  \n",
       "3    spotify:track:71AaGUlQ7I5dRgDEQpdnI4   0.2070  \n",
       "4    spotify:track:4Q34FP1AT7GEl9oLgNtiWj   0.7040  \n",
       "..                                    ...      ...  \n",
       "279  spotify:track:1kNVJQEkobOlyfbctPZ4fs   0.8170  \n",
       "280  spotify:track:26WpOBpHiIMoBuMEIwtOCH   0.7040  \n",
       "281  spotify:track:6Pa6VpdGS8OfiVOEnNAHHw   0.5890  \n",
       "282  spotify:track:2x8TNY9KwNvD19gVGs4WOP   0.6330  \n",
       "283  spotify:track:6m2LNopVJKsvBB9l7Z1rwn   0.3880  \n",
       "\n",
       "[284 rows x 19 columns]"
      ]
     },
     "execution_count": 16,
     "metadata": {},
     "output_type": "execute_result"
    }
   ],
   "source": [
    "# load dataframes from the CSVs we saved so that we don't have to run everything again\n",
    "\n",
    "df_eddie = pd.read_csv('eddie_song_data.csv')\n",
    "df_bri = pd.read_csv('bri_song_data.csv')\n",
    "df_rafa = pd.read_csv('rafa_song_data.csv')\n",
    "df_brendan = pd.read_csv('brendan_song_data.csv')\n",
    "df_aditya = pd.read_csv('aditya_song_data.csv')\n",
    "\n",
    "df_eddie"
   ]
  },
  {
   "cell_type": "markdown",
   "metadata": {},
   "source": [
    "# Visuals"
   ]
  },
  {
   "cell_type": "code",
   "execution_count": 17,
   "metadata": {},
   "outputs": [],
   "source": [
    "# all necessary imports:\n",
    "import matplotlib.pyplot as plt\n",
    "import numpy as np\n",
    "import seaborn as sns\n",
    "import plotly.express as px\n",
    "import pandas as pd\n",
    "import plotly.graph_objects as go"
   ]
  },
  {
   "cell_type": "code",
   "execution_count": 18,
   "metadata": {},
   "outputs": [],
   "source": [
    "# list of audio features that we want to graph\n",
    "features_list = ['acousticness', 'danceability', 'energy', \n",
    "                 'instrumentalness', 'liveness', 'loudness', \n",
    "                 'speechiness', 'tempo', 'valence']\n",
    "\n",
    "# dict of audio features that we want to graph\n",
    "# keys are features, values are (min, max) range tuples\n",
    "features_dict = {'acousticness'    :(0.0, 1.0), \n",
    "                 'danceability'    :(0.0, 1.0), \n",
    "                 'energy'          :(0.0, 1.0), \n",
    "                 'instrumentalness':(0.0, 1.0), \n",
    "                 'liveness'        :(0.0, 1.0), \n",
    "                 'loudness'        :(-60.0, 0.0), \n",
    "                 'speechiness'     :(0.0, 1.0), \n",
    "                 'tempo'           :(0.0, 300.0), \n",
    "                 'valence'         :(0.0, 1.0)}"
   ]
  },
  {
   "cell_type": "code",
   "execution_count": 27,
   "metadata": {},
   "outputs": [],
   "source": [
    "def graph_audio_features(df_tracks):\n",
    "    \"\"\" graphs the distribution of each audio feature for \n",
    "        this user as a histogram subplot\n",
    "    \n",
    "        Args:\n",
    "            df_tracks (pd.DataFrame): each row is a track, columns are audio features\n",
    "    \n",
    "        Returns:\n",
    "            generates a figure that's not returned\n",
    "    \"\"\"\n",
    "\n",
    "    # style points\n",
    "    sns.set() \n",
    "\n",
    "    # for each audio feature\n",
    "    for feature in features_list:\n",
    "\n",
    "        # this will be a 3x3 plot\n",
    "        plt.subplot(3, 3, features_list.index(feature) + 1)\n",
    "        \n",
    "        # make 10 bins between the range of possible values for the feature\n",
    "        bin_max = features_dict[feature][1]\n",
    "        bin_min = features_dict[feature][0]\n",
    "        feature_bins = np.linspace(bin_min, bin_max, num=10)\n",
    "\n",
    "        # add axis labels\n",
    "        plt.xlabel(feature)\n",
    "        plt.ylabel('count')\n",
    "        \n",
    "        # create a histogram with all the data for the given feature\n",
    "        # distributed aongst the bins\n",
    "        plt.hist(df_tracks[feature], bins=feature_bins)\n",
    "\n",
    "        # add spacing and scale\n",
    "        plt.subplots_adjust(wspace=.3, hspace=.35)    \n",
    "        plt.gcf().set_size_inches(15, 7)\n",
    "        \n",
    "        # set title\n",
    "        plt.suptitle('Audio Features for Given User')\n",
    "        \n",
    "        plt.savefig('user_audio_features_hist.pdf')"
   ]
  },
  {
   "cell_type": "markdown",
   "metadata": {},
   "source": [
    "## The subplots of histograms show the data for a single user's music taste\n",
    "\n",
    "We chose to graph the features that are significant in understanding the types of music the user likes. \n",
    "\n",
    "By analyzing each user's subplots, the reader can understand various aspects of the user's taste. \n",
    "\n",
    "If one of the histogram is very skewed that means the user is very specific about what he likes regarding that feature. \n",
    "\n",
    "If the histogram looks flat, almost like a rectangle, then the user doesn't have a strong preference in that feature."
   ]
  },
  {
   "cell_type": "code",
   "execution_count": 28,
   "metadata": {
    "scrolled": true
   },
   "outputs": [
    {
     "data": {
      "image/png": "[encoded data removed]",
      "text/plain": [
       "<Figure size 1080x504 with 9 Axes>"
      ]
     },
     "metadata": {},
     "output_type": "display_data"
    }
   ],
   "source": [
    "# subplot for Brendan's tracks:\n",
    "graph_audio_features(df_brendan)"
   ]
  },
  {
   "cell_type": "markdown",
   "metadata": {},
   "source": [
    "### Some of the easy take aways from the subplots above are that Brendan tends to prefer:\n",
    "1. music with a low acousticness level, but still listens to plenty with varied levels\n",
    "1. music with a medium level of danceability, but this feature doesn't seem to be super strcitve for him\n",
    "1. music with low instrumentalness levels, and he feels strongly about this!\n",
    "1. low level of liveness in his tracks\n",
    "1. higher levels of loudness\n",
    "1. low speechiness\n",
    "1. doesn't seem to care about valence levels"
   ]
  },
  {
   "cell_type": "markdown",
   "metadata": {},
   "source": [
    "## Visualizing multiple user's audio features preferences"
   ]
  },
  {
   "cell_type": "code",
   "execution_count": 30,
   "metadata": {},
   "outputs": [],
   "source": [
    "def user_radar_chart_values(df_tracks):\n",
    "    \"\"\" calculates NORMALIZED median value for \n",
    "        each audio feature for this user's dataframe\n",
    "    \n",
    "        Args:\n",
    "            df_tracks (pd.DataFrame): each row is a track, columns are audio features\n",
    "   \n",
    "        Returns:\n",
    "            radar_values (list): list of values for each audio feature\n",
    "    \"\"\"\n",
    "    \n",
    "    # accumulate normalized medians\n",
    "    norm_meds_list = []\n",
    "    \n",
    "    # for each audio feature:\n",
    "    for feature in features_list:\n",
    "        \n",
    "        # get median value for this column\n",
    "        feat_median = df_tracks[feature].median()\n",
    "    \n",
    "        \n",
    "        # loudness is a special case. 0dB is the max, -60dB is the min\n",
    "        if feature == 'loudness':\n",
    "            # add 60dB to the feat median to get a value between 0 and 60 \n",
    "            # normalize loudness by dividing by max value\n",
    "            normalized_feat_median = (feat_median + 60.0) / 60.0 * 100\n",
    "        else:\n",
    "            # normalize median by dividing by max value for this feature\n",
    "            normalized_feat_median = feat_median / features_dict[feature][1] * 100\n",
    "            \n",
    "        # add norm feat median to our list\n",
    "        norm_meds_list.append(normalized_feat_median)\n",
    "    \n",
    "    return norm_meds_list"
   ]
  },
  {
   "cell_type": "code",
   "execution_count": 34,
   "metadata": {},
   "outputs": [],
   "source": [
    "def compare_friends(friend_dict):\n",
    "    \"\"\" generate a radar plot overlaying feature values for friends to see how they compare\n",
    "    \n",
    "        Args:\n",
    "            friends_dict (dict): keys are usernames, values are arrays of audio feature medians\n",
    "    \n",
    "        Returns:\n",
    "            plots a radar graph comparing multiple users' preferences\n",
    "    \"\"\"\n",
    "\n",
    "    fig = go.Figure()\n",
    "\n",
    "    # for each friend, add a radar plot\n",
    "    for friend in friend_dict.items():\n",
    "        # plot this friend's radar plot\n",
    "        fig.add_trace(go.Scatterpolar(\n",
    "            \n",
    "          # list of feats' median values\n",
    "          r=friend[1],\n",
    "            \n",
    "          # features to be graphed\n",
    "          theta=features_list,\n",
    "          fill='toself',\n",
    "            \n",
    "          # whose data does this belong to\n",
    "          name=friend[0]))\n",
    "\n",
    "    fig.update_layout(polar=dict(radialaxis=dict(visible=True,range=[0.0, 100.0])), \n",
    "                      showlegend=True)\n",
    "    \n",
    "    fig.write_html('users_features_radar.html')\n",
    "\n",
    "    fig.show()"
   ]
  },
  {
   "cell_type": "code",
   "execution_count": 35,
   "metadata": {},
   "outputs": [
    {
     "data": {
      "application/vnd.plotly.v1+json": {
       "config": {
        "plotlyServerURL": "https://plot.ly"
       },
       "data": [
        {
         "fill": "toself",
         "name": "brenderman3",
         "r": [
          14.45,
          74.3,
          59.3,
          0,
          12.2,
          88.93666666666668,
          17.299999999999997,
          40.02883333333334,
          44.9
         ],
         "theta": [
          "acousticness",
          "danceability",
          "energy",
          "instrumentalness",
          "liveness",
          "loudness",
          "speechiness",
          "tempo",
          "valence"
         ],
         "type": "scatterpolar"
        },
        {
         "fill": "toself",
         "name": "briannannaj",
         "r": [
          40.75,
          58.45,
          49.3,
          0.0257,
          11.5,
          85.31666666666666,
          4.614999999999999,
          37.3245,
          42.449999999999996
         ],
         "theta": [
          "acousticness",
          "danceability",
          "energy",
          "instrumentalness",
          "liveness",
          "loudness",
          "speechiness",
          "tempo",
          "valence"
         ],
         "type": "scatterpolar"
        },
        {
         "fill": "toself",
         "name": "dudu.massud",
         "r": [
          8.08,
          64.5,
          63.650000000000006,
          0.0007109999999999999,
          12.75,
          89.1375,
          5.655,
          42.321333333333335,
          41.949999999999996
         ],
         "theta": [
          "acousticness",
          "danceability",
          "energy",
          "instrumentalness",
          "liveness",
          "loudness",
          "speechiness",
          "tempo",
          "valence"
         ],
         "type": "scatterpolar"
        },
        {
         "fill": "toself",
         "name": "rafalapetina",
         "r": [
          27.400000000000002,
          58.3,
          57.9,
          0.06989999999999999,
          12.8,
          86.11166666666666,
          7.090000000000001,
          37.294666666666664,
          48.6
         ],
         "theta": [
          "acousticness",
          "danceability",
          "energy",
          "instrumentalness",
          "liveness",
          "loudness",
          "speechiness",
          "tempo",
          "valence"
         ],
         "type": "scatterpolar"
        }
       ],
       "layout": {
        "polar": {
         "radialaxis": {
          "range": [
           0,
           100
          ],
          "visible": true
         }
        },
        "showlegend": true,
        "template": {
         "data": {
          "bar": [
           {
            "error_x": {
             "color": "#2a3f5f"
            },
            "error_y": {
             "color": "#2a3f5f"
            },
            "marker": {
             "line": {
              "color": "#E5ECF6",
              "width": 0.5
             }
            },
            "type": "bar"
           }
          ],
          "barpolar": [
           {
            "marker": {
             "line": {
              "color": "#E5ECF6",
              "width": 0.5
             }
            },
            "type": "barpolar"
           }
          ],
          "carpet": [
           {
            "aaxis": {
             "endlinecolor": "#2a3f5f",
             "gridcolor": "white",
             "linecolor": "white",
             "minorgridcolor": "white",
             "startlinecolor": "#2a3f5f"
            },
            "baxis": {
             "endlinecolor": "#2a3f5f",
             "gridcolor": "white",
             "linecolor": "white",
             "minorgridcolor": "white",
             "startlinecolor": "#2a3f5f"
            },
            "type": "carpet"
           }
          ],
          "choropleth": [
           {
            "colorbar": {
             "outlinewidth": 0,
             "ticks": ""
            },
            "type": "choropleth"
           }
          ],
          "contour": [
           {
            "colorbar": {
             "outlinewidth": 0,
             "ticks": ""
            },
            "colorscale": [
             [
              0,
              "#0d0887"
             ],
             [
              0.1111111111111111,
              "#46039f"
             ],
             [
              0.2222222222222222,
              "#7201a8"
             ],
             [
              0.3333333333333333,
              "#9c179e"
             ],
             [
              0.4444444444444444,
              "#bd3786"
             ],
             [
              0.5555555555555556,
              "#d8576b"
             ],
             [
              0.6666666666666666,
              "#ed7953"
             ],
             [
              0.7777777777777778,
              "#fb9f3a"
             ],
             [
              0.8888888888888888,
              "#fdca26"
             ],
             [
              1,
              "#f0f921"
             ]
            ],
            "type": "contour"
           }
          ],
          "contourcarpet": [
           {
            "colorbar": {
             "outlinewidth": 0,
             "ticks": ""
            },
            "type": "contourcarpet"
           }
          ],
          "heatmap": [
           {
            "colorbar": {
             "outlinewidth": 0,
             "ticks": ""
            },
            "colorscale": [
             [
              0,
              "#0d0887"
             ],
             [
              0.1111111111111111,
              "#46039f"
             ],
             [
              0.2222222222222222,
              "#7201a8"
             ],
             [
              0.3333333333333333,
              "#9c179e"
             ],
             [
              0.4444444444444444,
              "#bd3786"
             ],
             [
              0.5555555555555556,
              "#d8576b"
             ],
             [
              0.6666666666666666,
              "#ed7953"
             ],
             [
              0.7777777777777778,
              "#fb9f3a"
             ],
             [
              0.8888888888888888,
              "#fdca26"
             ],
             [
              1,
              "#f0f921"
             ]
            ],
            "type": "heatmap"
           }
          ],
          "heatmapgl": [
           {
            "colorbar": {
             "outlinewidth": 0,
             "ticks": ""
            },
            "colorscale": [
             [
              0,
              "#0d0887"
             ],
             [
              0.1111111111111111,
              "#46039f"
             ],
             [
              0.2222222222222222,
              "#7201a8"
             ],
             [
              0.3333333333333333,
              "#9c179e"
             ],
             [
              0.4444444444444444,
              "#bd3786"
             ],
             [
              0.5555555555555556,
              "#d8576b"
             ],
             [
              0.6666666666666666,
              "#ed7953"
             ],
             [
              0.7777777777777778,
              "#fb9f3a"
             ],
             [
              0.8888888888888888,
              "#fdca26"
             ],
             [
              1,
              "#f0f921"
             ]
            ],
            "type": "heatmapgl"
           }
          ],
          "histogram": [
           {
            "marker": {
             "colorbar": {
              "outlinewidth": 0,
              "ticks": ""
             }
            },
            "type": "histogram"
           }
          ],
          "histogram2d": [
           {
            "colorbar": {
             "outlinewidth": 0,
             "ticks": ""
            },
            "colorscale": [
             [
              0,
              "#0d0887"
             ],
             [
              0.1111111111111111,
              "#46039f"
             ],
             [
              0.2222222222222222,
              "#7201a8"
             ],
             [
              0.3333333333333333,
              "#9c179e"
             ],
             [
              0.4444444444444444,
              "#bd3786"
             ],
             [
              0.5555555555555556,
              "#d8576b"
             ],
             [
              0.6666666666666666,
              "#ed7953"
             ],
             [
              0.7777777777777778,
              "#fb9f3a"
             ],
             [
              0.8888888888888888,
              "#fdca26"
             ],
             [
              1,
              "#f0f921"
             ]
            ],
            "type": "histogram2d"
           }
          ],
          "histogram2dcontour": [
           {
            "colorbar": {
             "outlinewidth": 0,
             "ticks": ""
            },
            "colorscale": [
             [
              0,
              "#0d0887"
             ],
             [
              0.1111111111111111,
              "#46039f"
             ],
             [
              0.2222222222222222,
              "#7201a8"
             ],
             [
              0.3333333333333333,
              "#9c179e"
             ],
             [
              0.4444444444444444,
              "#bd3786"
             ],
             [
              0.5555555555555556,
              "#d8576b"
             ],
             [
              0.6666666666666666,
              "#ed7953"
             ],
             [
              0.7777777777777778,
              "#fb9f3a"
             ],
             [
              0.8888888888888888,
              "#fdca26"
             ],
             [
              1,
              "#f0f921"
             ]
            ],
            "type": "histogram2dcontour"
           }
          ],
          "mesh3d": [
           {
            "colorbar": {
             "outlinewidth": 0,
             "ticks": ""
            },
            "type": "mesh3d"
           }
          ],
          "parcoords": [
           {
            "line": {
             "colorbar": {
              "outlinewidth": 0,
              "ticks": ""
             }
            },
            "type": "parcoords"
           }
          ],
          "pie": [
           {
            "automargin": true,
            "type": "pie"
           }
          ],
          "scatter": [
           {
            "marker": {
             "colorbar": {
              "outlinewidth": 0,
              "ticks": ""
             }
            },
            "type": "scatter"
           }
          ],
          "scatter3d": [
           {
            "line": {
             "colorbar": {
              "outlinewidth": 0,
              "ticks": ""
             }
            },
            "marker": {
             "colorbar": {
              "outlinewidth": 0,
              "ticks": ""
             }
            },
            "type": "scatter3d"
           }
          ],
          "scattercarpet": [
           {
            "marker": {
             "colorbar": {
              "outlinewidth": 0,
              "ticks": ""
             }
            },
            "type": "scattercarpet"
           }
          ],
          "scattergeo": [
           {
            "marker": {
             "colorbar": {
              "outlinewidth": 0,
              "ticks": ""
             }
            },
            "type": "scattergeo"
           }
          ],
          "scattergl": [
           {
            "marker": {
             "colorbar": {
              "outlinewidth": 0,
              "ticks": ""
             }
            },
            "type": "scattergl"
           }
          ],
          "scattermapbox": [
           {
            "marker": {
             "colorbar": {
              "outlinewidth": 0,
              "ticks": ""
             }
            },
            "type": "scattermapbox"
           }
          ],
          "scatterpolar": [
           {
            "marker": {
             "colorbar": {
              "outlinewidth": 0,
              "ticks": ""
             }
            },
            "type": "scatterpolar"
           }
          ],
          "scatterpolargl": [
           {
            "marker": {
             "colorbar": {
              "outlinewidth": 0,
              "ticks": ""
             }
            },
            "type": "scatterpolargl"
           }
          ],
          "scatterternary": [
           {
            "marker": {
             "colorbar": {
              "outlinewidth": 0,
              "ticks": ""
             }
            },
            "type": "scatterternary"
           }
          ],
          "surface": [
           {
            "colorbar": {
             "outlinewidth": 0,
             "ticks": ""
            },
            "colorscale": [
             [
              0,
              "#0d0887"
             ],
             [
              0.1111111111111111,
              "#46039f"
             ],
             [
              0.2222222222222222,
              "#7201a8"
             ],
             [
              0.3333333333333333,
              "#9c179e"
             ],
             [
              0.4444444444444444,
              "#bd3786"
             ],
             [
              0.5555555555555556,
              "#d8576b"
             ],
             [
              0.6666666666666666,
              "#ed7953"
             ],
             [
              0.7777777777777778,
              "#fb9f3a"
             ],
             [
              0.8888888888888888,
              "#fdca26"
             ],
             [
              1,
              "#f0f921"
             ]
            ],
            "type": "surface"
           }
          ],
          "table": [
           {
            "cells": {
             "fill": {
              "color": "#EBF0F8"
             },
             "line": {
              "color": "white"
             }
            },
            "header": {
             "fill": {
              "color": "#C8D4E3"
             },
             "line": {
              "color": "white"
             }
            },
            "type": "table"
           }
          ]
         },
         "layout": {
          "annotationdefaults": {
           "arrowcolor": "#2a3f5f",
           "arrowhead": 0,
           "arrowwidth": 1
          },
          "autotypenumbers": "strict",
          "coloraxis": {
           "colorbar": {
            "outlinewidth": 0,
            "ticks": ""
           }
          },
          "colorscale": {
           "diverging": [
            [
             0,
             "#8e0152"
            ],
            [
             0.1,
             "#c51b7d"
            ],
            [
             0.2,
             "#de77ae"
            ],
            [
             0.3,
             "#f1b6da"
            ],
            [
             0.4,
             "#fde0ef"
            ],
            [
             0.5,
             "#f7f7f7"
            ],
            [
             0.6,
             "#e6f5d0"
            ],
            [
             0.7,
             "#b8e186"
            ],
            [
             0.8,
             "#7fbc41"
            ],
            [
             0.9,
             "#4d9221"
            ],
            [
             1,
             "#276419"
            ]
           ],
           "sequential": [
            [
             0,
             "#0d0887"
            ],
            [
             0.1111111111111111,
             "#46039f"
            ],
            [
             0.2222222222222222,
             "#7201a8"
            ],
            [
             0.3333333333333333,
             "#9c179e"
            ],
            [
             0.4444444444444444,
             "#bd3786"
            ],
            [
             0.5555555555555556,
             "#d8576b"
            ],
            [
             0.6666666666666666,
             "#ed7953"
            ],
            [
             0.7777777777777778,
             "#fb9f3a"
            ],
            [
             0.8888888888888888,
             "#fdca26"
            ],
            [
             1,
             "#f0f921"
            ]
           ],
           "sequentialminus": [
            [
             0,
             "#0d0887"
            ],
            [
             0.1111111111111111,
             "#46039f"
            ],
            [
             0.2222222222222222,
             "#7201a8"
            ],
            [
             0.3333333333333333,
             "#9c179e"
            ],
            [
             0.4444444444444444,
             "#bd3786"
            ],
            [
             0.5555555555555556,
             "#d8576b"
            ],
            [
             0.6666666666666666,
             "#ed7953"
            ],
            [
             0.7777777777777778,
             "#fb9f3a"
            ],
            [
             0.8888888888888888,
             "#fdca26"
            ],
            [
             1,
             "#f0f921"
            ]
           ]
          },
          "colorway": [
           "#636efa",
           "#EF553B",
           "#00cc96",
           "#ab63fa",
           "#FFA15A",
           "#19d3f3",
           "#FF6692",
           "#B6E880",
           "#FF97FF",
           "#FECB52"
          ],
          "font": {
           "color": "#2a3f5f"
          },
          "geo": {
           "bgcolor": "white",
           "lakecolor": "white",
           "landcolor": "#E5ECF6",
           "showlakes": true,
           "showland": true,
           "subunitcolor": "white"
          },
          "hoverlabel": {
           "align": "left"
          },
          "hovermode": "closest",
          "mapbox": {
           "style": "light"
          },
          "paper_bgcolor": "white",
          "plot_bgcolor": "#E5ECF6",
          "polar": {
           "angularaxis": {
            "gridcolor": "white",
            "linecolor": "white",
            "ticks": ""
           },
           "bgcolor": "#E5ECF6",
           "radialaxis": {
            "gridcolor": "white",
            "linecolor": "white",
            "ticks": ""
           }
          },
          "scene": {
           "xaxis": {
            "backgroundcolor": "#E5ECF6",
            "gridcolor": "white",
            "gridwidth": 2,
            "linecolor": "white",
            "showbackground": true,
            "ticks": "",
            "zerolinecolor": "white"
           },
           "yaxis": {
            "backgroundcolor": "#E5ECF6",
            "gridcolor": "white",
            "gridwidth": 2,
            "linecolor": "white",
            "showbackground": true,
            "ticks": "",
            "zerolinecolor": "white"
           },
           "zaxis": {
            "backgroundcolor": "#E5ECF6",
            "gridcolor": "white",
            "gridwidth": 2,
            "linecolor": "white",
            "showbackground": true,
            "ticks": "",
            "zerolinecolor": "white"
           }
          },
          "shapedefaults": {
           "line": {
            "color": "#2a3f5f"
           }
          },
          "ternary": {
           "aaxis": {
            "gridcolor": "white",
            "linecolor": "white",
            "ticks": ""
           },
           "baxis": {
            "gridcolor": "white",
            "linecolor": "white",
            "ticks": ""
           },
           "bgcolor": "#E5ECF6",
           "caxis": {
            "gridcolor": "white",
            "linecolor": "white",
            "ticks": ""
           }
          },
          "title": {
           "x": 0.05
          },
          "xaxis": {
           "automargin": true,
           "gridcolor": "white",
           "linecolor": "white",
           "ticks": "",
           "title": {
            "standoff": 15
           },
           "zerolinecolor": "white",
           "zerolinewidth": 2
          },
          "yaxis": {
           "automargin": true,
           "gridcolor": "white",
           "linecolor": "white",
           "ticks": "",
           "title": {
            "standoff": 15
           },
           "zerolinecolor": "white",
           "zerolinewidth": 2
          }
         }
        }
       }
      },
      "text/html": [
       "<div>                            <div id=\"4cd754be-9846-4159-bcca-1e517c4f6c7c\" class=\"plotly-graph-div\" style=\"height:525px; width:100%;\"></div>            <script type=\"text/javascript\">                require([\"plotly\"], function(Plotly) {                    window.PLOTLYENV=window.PLOTLYENV || {};                                    if (document.getElementById(\"4cd754be-9846-4159-bcca-1e517c4f6c7c\")) {                    Plotly.newPlot(                        \"4cd754be-9846-4159-bcca-1e517c4f6c7c\",                        [{\"fill\": \"toself\", \"name\": \"brenderman3\", \"r\": [14.45, 74.3, 59.3, 0.0, 12.2, 88.93666666666668, 17.299999999999997, 40.02883333333334, 44.9], \"theta\": [\"acousticness\", \"danceability\", \"energy\", \"instrumentalness\", \"liveness\", \"loudness\", \"speechiness\", \"tempo\", \"valence\"], \"type\": \"scatterpolar\"}, {\"fill\": \"toself\", \"name\": \"briannannaj\", \"r\": [40.75, 58.45, 49.3, 0.0257, 11.5, 85.31666666666666, 4.614999999999999, 37.3245, 42.449999999999996], \"theta\": [\"acousticness\", \"danceability\", \"energy\", \"instrumentalness\", \"liveness\", \"loudness\", \"speechiness\", \"tempo\", \"valence\"], \"type\": \"scatterpolar\"}, {\"fill\": \"toself\", \"name\": \"dudu.massud\", \"r\": [8.08, 64.5, 63.650000000000006, 0.0007109999999999999, 12.75, 89.1375, 5.655, 42.321333333333335, 41.949999999999996], \"theta\": [\"acousticness\", \"danceability\", \"energy\", \"instrumentalness\", \"liveness\", \"loudness\", \"speechiness\", \"tempo\", \"valence\"], \"type\": \"scatterpolar\"}, {\"fill\": \"toself\", \"name\": \"rafalapetina\", \"r\": [27.400000000000002, 58.3, 57.9, 0.06989999999999999, 12.8, 86.11166666666666, 7.090000000000001, 37.294666666666664, 48.6], \"theta\": [\"acousticness\", \"danceability\", \"energy\", \"instrumentalness\", \"liveness\", \"loudness\", \"speechiness\", \"tempo\", \"valence\"], \"type\": \"scatterpolar\"}],                        {\"polar\": {\"radialaxis\": {\"range\": [0.0, 100.0], \"visible\": true}}, \"showlegend\": true, \"template\": {\"data\": {\"bar\": [{\"error_x\": {\"color\": \"#2a3f5f\"}, \"error_y\": {\"color\": \"#2a3f5f\"}, \"marker\": {\"line\": {\"color\": \"#E5ECF6\", \"width\": 0.5}}, \"type\": \"bar\"}], \"barpolar\": [{\"marker\": {\"line\": {\"color\": \"#E5ECF6\", \"width\": 0.5}}, \"type\": \"barpolar\"}], \"carpet\": [{\"aaxis\": {\"endlinecolor\": \"#2a3f5f\", \"gridcolor\": \"white\", \"linecolor\": \"white\", \"minorgridcolor\": \"white\", \"startlinecolor\": \"#2a3f5f\"}, \"baxis\": {\"endlinecolor\": \"#2a3f5f\", \"gridcolor\": \"white\", \"linecolor\": \"white\", \"minorgridcolor\": \"white\", \"startlinecolor\": \"#2a3f5f\"}, \"type\": \"carpet\"}], \"choropleth\": [{\"colorbar\": {\"outlinewidth\": 0, \"ticks\": \"\"}, \"type\": \"choropleth\"}], \"contour\": [{\"colorbar\": {\"outlinewidth\": 0, \"ticks\": \"\"}, \"colorscale\": [[0.0, \"#0d0887\"], [0.1111111111111111, \"#46039f\"], [0.2222222222222222, \"#7201a8\"], [0.3333333333333333, \"#9c179e\"], [0.4444444444444444, \"#bd3786\"], [0.5555555555555556, \"#d8576b\"], [0.6666666666666666, \"#ed7953\"], [0.7777777777777778, \"#fb9f3a\"], [0.8888888888888888, \"#fdca26\"], [1.0, \"#f0f921\"]], \"type\": \"contour\"}], \"contourcarpet\": [{\"colorbar\": {\"outlinewidth\": 0, \"ticks\": \"\"}, \"type\": \"contourcarpet\"}], \"heatmap\": [{\"colorbar\": {\"outlinewidth\": 0, \"ticks\": \"\"}, \"colorscale\": [[0.0, \"#0d0887\"], [0.1111111111111111, \"#46039f\"], [0.2222222222222222, \"#7201a8\"], [0.3333333333333333, \"#9c179e\"], [0.4444444444444444, \"#bd3786\"], [0.5555555555555556, \"#d8576b\"], [0.6666666666666666, \"#ed7953\"], [0.7777777777777778, \"#fb9f3a\"], [0.8888888888888888, \"#fdca26\"], [1.0, \"#f0f921\"]], \"type\": \"heatmap\"}], \"heatmapgl\": [{\"colorbar\": {\"outlinewidth\": 0, \"ticks\": \"\"}, \"colorscale\": [[0.0, \"#0d0887\"], [0.1111111111111111, \"#46039f\"], [0.2222222222222222, \"#7201a8\"], [0.3333333333333333, \"#9c179e\"], [0.4444444444444444, \"#bd3786\"], [0.5555555555555556, \"#d8576b\"], [0.6666666666666666, \"#ed7953\"], [0.7777777777777778, \"#fb9f3a\"], [0.8888888888888888, \"#fdca26\"], [1.0, \"#f0f921\"]], \"type\": \"heatmapgl\"}], \"histogram\": [{\"marker\": {\"colorbar\": {\"outlinewidth\": 0, \"ticks\": \"\"}}, \"type\": \"histogram\"}], \"histogram2d\": [{\"colorbar\": {\"outlinewidth\": 0, \"ticks\": \"\"}, \"colorscale\": [[0.0, \"#0d0887\"], [0.1111111111111111, \"#46039f\"], [0.2222222222222222, \"#7201a8\"], [0.3333333333333333, \"#9c179e\"], [0.4444444444444444, \"#bd3786\"], [0.5555555555555556, \"#d8576b\"], [0.6666666666666666, \"#ed7953\"], [0.7777777777777778, \"#fb9f3a\"], [0.8888888888888888, \"#fdca26\"], [1.0, \"#f0f921\"]], \"type\": \"histogram2d\"}], \"histogram2dcontour\": [{\"colorbar\": {\"outlinewidth\": 0, \"ticks\": \"\"}, \"colorscale\": [[0.0, \"#0d0887\"], [0.1111111111111111, \"#46039f\"], [0.2222222222222222, \"#7201a8\"], [0.3333333333333333, \"#9c179e\"], [0.4444444444444444, \"#bd3786\"], [0.5555555555555556, \"#d8576b\"], [0.6666666666666666, \"#ed7953\"], [0.7777777777777778, \"#fb9f3a\"], [0.8888888888888888, \"#fdca26\"], [1.0, \"#f0f921\"]], \"type\": \"histogram2dcontour\"}], \"mesh3d\": [{\"colorbar\": {\"outlinewidth\": 0, \"ticks\": \"\"}, \"type\": \"mesh3d\"}], \"parcoords\": [{\"line\": {\"colorbar\": {\"outlinewidth\": 0, \"ticks\": \"\"}}, \"type\": \"parcoords\"}], \"pie\": [{\"automargin\": true, \"type\": \"pie\"}], \"scatter\": [{\"marker\": {\"colorbar\": {\"outlinewidth\": 0, \"ticks\": \"\"}}, \"type\": \"scatter\"}], \"scatter3d\": [{\"line\": {\"colorbar\": {\"outlinewidth\": 0, \"ticks\": \"\"}}, \"marker\": {\"colorbar\": {\"outlinewidth\": 0, \"ticks\": \"\"}}, \"type\": \"scatter3d\"}], \"scattercarpet\": [{\"marker\": {\"colorbar\": {\"outlinewidth\": 0, \"ticks\": \"\"}}, \"type\": \"scattercarpet\"}], \"scattergeo\": [{\"marker\": {\"colorbar\": {\"outlinewidth\": 0, \"ticks\": \"\"}}, \"type\": \"scattergeo\"}], \"scattergl\": [{\"marker\": {\"colorbar\": {\"outlinewidth\": 0, \"ticks\": \"\"}}, \"type\": \"scattergl\"}], \"scattermapbox\": [{\"marker\": {\"colorbar\": {\"outlinewidth\": 0, \"ticks\": \"\"}}, \"type\": \"scattermapbox\"}], \"scatterpolar\": [{\"marker\": {\"colorbar\": {\"outlinewidth\": 0, \"ticks\": \"\"}}, \"type\": \"scatterpolar\"}], \"scatterpolargl\": [{\"marker\": {\"colorbar\": {\"outlinewidth\": 0, \"ticks\": \"\"}}, \"type\": \"scatterpolargl\"}], \"scatterternary\": [{\"marker\": {\"colorbar\": {\"outlinewidth\": 0, \"ticks\": \"\"}}, \"type\": \"scatterternary\"}], \"surface\": [{\"colorbar\": {\"outlinewidth\": 0, \"ticks\": \"\"}, \"colorscale\": [[0.0, \"#0d0887\"], [0.1111111111111111, \"#46039f\"], [0.2222222222222222, \"#7201a8\"], [0.3333333333333333, \"#9c179e\"], [0.4444444444444444, \"#bd3786\"], [0.5555555555555556, \"#d8576b\"], [0.6666666666666666, \"#ed7953\"], [0.7777777777777778, \"#fb9f3a\"], [0.8888888888888888, \"#fdca26\"], [1.0, \"#f0f921\"]], \"type\": \"surface\"}], \"table\": [{\"cells\": {\"fill\": {\"color\": \"#EBF0F8\"}, \"line\": {\"color\": \"white\"}}, \"header\": {\"fill\": {\"color\": \"#C8D4E3\"}, \"line\": {\"color\": \"white\"}}, \"type\": \"table\"}]}, \"layout\": {\"annotationdefaults\": {\"arrowcolor\": \"#2a3f5f\", \"arrowhead\": 0, \"arrowwidth\": 1}, \"autotypenumbers\": \"strict\", \"coloraxis\": {\"colorbar\": {\"outlinewidth\": 0, \"ticks\": \"\"}}, \"colorscale\": {\"diverging\": [[0, \"#8e0152\"], [0.1, \"#c51b7d\"], [0.2, \"#de77ae\"], [0.3, \"#f1b6da\"], [0.4, \"#fde0ef\"], [0.5, \"#f7f7f7\"], [0.6, \"#e6f5d0\"], [0.7, \"#b8e186\"], [0.8, \"#7fbc41\"], [0.9, \"#4d9221\"], [1, \"#276419\"]], \"sequential\": [[0.0, \"#0d0887\"], [0.1111111111111111, \"#46039f\"], [0.2222222222222222, \"#7201a8\"], [0.3333333333333333, \"#9c179e\"], [0.4444444444444444, \"#bd3786\"], [0.5555555555555556, \"#d8576b\"], [0.6666666666666666, \"#ed7953\"], [0.7777777777777778, \"#fb9f3a\"], [0.8888888888888888, \"#fdca26\"], [1.0, \"#f0f921\"]], \"sequentialminus\": [[0.0, \"#0d0887\"], [0.1111111111111111, \"#46039f\"], [0.2222222222222222, \"#7201a8\"], [0.3333333333333333, \"#9c179e\"], [0.4444444444444444, \"#bd3786\"], [0.5555555555555556, \"#d8576b\"], [0.6666666666666666, \"#ed7953\"], [0.7777777777777778, \"#fb9f3a\"], [0.8888888888888888, \"#fdca26\"], [1.0, \"#f0f921\"]]}, \"colorway\": [\"#636efa\", \"#EF553B\", \"#00cc96\", \"#ab63fa\", \"#FFA15A\", \"#19d3f3\", \"#FF6692\", \"#B6E880\", \"#FF97FF\", \"#FECB52\"], \"font\": {\"color\": \"#2a3f5f\"}, \"geo\": {\"bgcolor\": \"white\", \"lakecolor\": \"white\", \"landcolor\": \"#E5ECF6\", \"showlakes\": true, \"showland\": true, \"subunitcolor\": \"white\"}, \"hoverlabel\": {\"align\": \"left\"}, \"hovermode\": \"closest\", \"mapbox\": {\"style\": \"light\"}, \"paper_bgcolor\": \"white\", \"plot_bgcolor\": \"#E5ECF6\", \"polar\": {\"angularaxis\": {\"gridcolor\": \"white\", \"linecolor\": \"white\", \"ticks\": \"\"}, \"bgcolor\": \"#E5ECF6\", \"radialaxis\": {\"gridcolor\": \"white\", \"linecolor\": \"white\", \"ticks\": \"\"}}, \"scene\": {\"xaxis\": {\"backgroundcolor\": \"#E5ECF6\", \"gridcolor\": \"white\", \"gridwidth\": 2, \"linecolor\": \"white\", \"showbackground\": true, \"ticks\": \"\", \"zerolinecolor\": \"white\"}, \"yaxis\": {\"backgroundcolor\": \"#E5ECF6\", \"gridcolor\": \"white\", \"gridwidth\": 2, \"linecolor\": \"white\", \"showbackground\": true, \"ticks\": \"\", \"zerolinecolor\": \"white\"}, \"zaxis\": {\"backgroundcolor\": \"#E5ECF6\", \"gridcolor\": \"white\", \"gridwidth\": 2, \"linecolor\": \"white\", \"showbackground\": true, \"ticks\": \"\", \"zerolinecolor\": \"white\"}}, \"shapedefaults\": {\"line\": {\"color\": \"#2a3f5f\"}}, \"ternary\": {\"aaxis\": {\"gridcolor\": \"white\", \"linecolor\": \"white\", \"ticks\": \"\"}, \"baxis\": {\"gridcolor\": \"white\", \"linecolor\": \"white\", \"ticks\": \"\"}, \"bgcolor\": \"#E5ECF6\", \"caxis\": {\"gridcolor\": \"white\", \"linecolor\": \"white\", \"ticks\": \"\"}}, \"title\": {\"x\": 0.05}, \"xaxis\": {\"automargin\": true, \"gridcolor\": \"white\", \"linecolor\": \"white\", \"ticks\": \"\", \"title\": {\"standoff\": 15}, \"zerolinecolor\": \"white\", \"zerolinewidth\": 2}, \"yaxis\": {\"automargin\": true, \"gridcolor\": \"white\", \"linecolor\": \"white\", \"ticks\": \"\", \"title\": {\"standoff\": 15}, \"zerolinecolor\": \"white\", \"zerolinewidth\": 2}}}},                        {\"responsive\": true}                    ).then(function(){\n",
       "                            \n",
       "var gd = document.getElementById('4cd754be-9846-4159-bcca-1e517c4f6c7c');\n",
       "var x = new MutationObserver(function (mutations, observer) {{\n",
       "        var display = window.getComputedStyle(gd).display;\n",
       "        if (!display || display === 'none') {{\n",
       "            console.log([gd, 'removed!']);\n",
       "            Plotly.purge(gd);\n",
       "            observer.disconnect();\n",
       "        }}\n",
       "}});\n",
       "\n",
       "// Listen for the removal of the full notebook cells\n",
       "var notebookContainer = gd.closest('#notebook-container');\n",
       "if (notebookContainer) {{\n",
       "    x.observe(notebookContainer, {childList: true});\n",
       "}}\n",
       "\n",
       "// Listen for the clearing of the current output cell\n",
       "var outputEl = gd.closest('.output');\n",
       "if (outputEl) {{\n",
       "    x.observe(outputEl, {childList: true});\n",
       "}}\n",
       "\n",
       "                        })                };                });            </script>        </div>"
      ]
     },
     "metadata": {},
     "output_type": "display_data"
    }
   ],
   "source": [
    "# initialize our dictionary, keys are usernames, values are arrays of audio feature medians\n",
    "friends_dict = {}\n",
    "\n",
    "friends_dict['brenderman3'] = user_radar_chart_values(df_eddie)\n",
    "friends_dict['briannannaj'] = user_radar_chart_values(df_bri)\n",
    "friends_dict['dudu.massud'] = user_radar_chart_values(df_rafa)\n",
    "friends_dict['rafalapetina'] = user_radar_chart_values(df_brendan)\n",
    "\n",
    "compare_friends(friends_dict)"
   ]
  },
  {
   "cell_type": "markdown",
   "metadata": {},
   "source": [
    "# Multiple users' preferences\n",
    "\n",
    "This [radar chart](https://plotly.com/python/radar-chart/) allows the reader to visualize how different users like their music.\n",
    "\n",
    "It is very easy to see the areas where the audio features preferences overlap and where they differ. \n",
    "\n",
    "It also allows the reader to know each user's preference for each of the features through the mouse interactions.\n",
    "\n",
    "\n",
    "For the values of each feature we decided to use the median value. We started by using the mean, but quickly realized that if a user listens to two main types of music that have opposing values for features, then the mean would return something in the middle, which would be an incorrect recommendatino for this user. \n",
    "By using the median we eliminate that problem."
   ]
  }
 ],
 "metadata": {
  "kernelspec": {
   "display_name": "Python 3",
   "language": "python",
   "name": "python3"
  },
  "language_info": {
   "codemirror_mode": {
    "name": "ipython",
    "version": 3
   },
   "file_extension": ".py",
   "mimetype": "text/x-python",
   "name": "python",
   "nbconvert_exporter": "python",
   "pygments_lexer": "ipython3",
   "version": "3.9.1"
  }
 },
 "nbformat": 4,
 "nbformat_minor": 2
}
